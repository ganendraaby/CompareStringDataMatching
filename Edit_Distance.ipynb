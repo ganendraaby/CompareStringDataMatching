{
  "nbformat": 4,
  "nbformat_minor": 0,
  "metadata": {
    "colab": {
      "provenance": []
    },
    "kernelspec": {
      "name": "python3",
      "display_name": "Python 3"
    },
    "language_info": {
      "name": "python"
    }
  },
  "cells": [
    {
      "cell_type": "code",
      "source": [
        "!pip install fuzzywuzzy\n",
        "!pip install rapidfuzz\n",
        "!pip install nltk\n",
        "!pip install difflib"
      ],
      "metadata": {
        "colab": {
          "base_uri": "https://localhost:8080/"
        },
        "id": "Me-_-8uy0xy3",
        "outputId": "9c179ba1-1f2e-421c-c2ab-cd0870508603"
      },
      "execution_count": null,
      "outputs": [
        {
          "output_type": "stream",
          "name": "stdout",
          "text": [
            "Collecting fuzzywuzzy\n",
            "  Downloading fuzzywuzzy-0.18.0-py2.py3-none-any.whl.metadata (4.9 kB)\n",
            "Downloading fuzzywuzzy-0.18.0-py2.py3-none-any.whl (18 kB)\n",
            "Installing collected packages: fuzzywuzzy\n",
            "Successfully installed fuzzywuzzy-0.18.0\n",
            "Collecting rapidfuzz\n",
            "  Downloading rapidfuzz-3.13.0-cp311-cp311-manylinux_2_17_x86_64.manylinux2014_x86_64.whl.metadata (12 kB)\n",
            "Downloading rapidfuzz-3.13.0-cp311-cp311-manylinux_2_17_x86_64.manylinux2014_x86_64.whl (3.1 MB)\n",
            "\u001b[2K   \u001b[90m━━━━━━━━━━━━━━━━━━━━━━━━━━━━━━━━━━━━━━━━\u001b[0m \u001b[32m3.1/3.1 MB\u001b[0m \u001b[31m37.9 MB/s\u001b[0m eta \u001b[36m0:00:00\u001b[0m\n",
            "\u001b[?25hInstalling collected packages: rapidfuzz\n",
            "Successfully installed rapidfuzz-3.13.0\n",
            "Requirement already satisfied: nltk in /usr/local/lib/python3.11/dist-packages (3.9.1)\n",
            "Requirement already satisfied: click in /usr/local/lib/python3.11/dist-packages (from nltk) (8.2.1)\n",
            "Requirement already satisfied: joblib in /usr/local/lib/python3.11/dist-packages (from nltk) (1.5.1)\n",
            "Requirement already satisfied: regex>=2021.8.3 in /usr/local/lib/python3.11/dist-packages (from nltk) (2024.11.6)\n",
            "Requirement already satisfied: tqdm in /usr/local/lib/python3.11/dist-packages (from nltk) (4.67.1)\n",
            "\u001b[31mERROR: Could not find a version that satisfies the requirement difflib (from versions: none)\u001b[0m\u001b[31m\n",
            "\u001b[0m\u001b[31mERROR: No matching distribution found for difflib\u001b[0m\u001b[31m\n",
            "\u001b[0m"
          ]
        }
      ]
    },
    {
      "cell_type": "code",
      "execution_count": null,
      "metadata": {
        "id": "yDmksume0a19"
      },
      "outputs": [],
      "source": [
        "import pandas as pd\n",
        "\n",
        "# 1) Import pustaka yang dibutuhkan\n",
        "from fuzzywuzzy import fuzz\n",
        "from rapidfuzz import fuzz as rapidfuzz_module\n",
        "import nltk\n",
        "from nltk.metrics import edit_distance\n",
        "from difflib import SequenceMatcher\n",
        "\n",
        "# Jika belum pernah, jalankan sekali untuk download data NLTK (untuk edit_distance tidak perlu)\n",
        "# nltk.download('punkt')"
      ]
    },
    {
      "cell_type": "code",
      "source": [
        "# 2) Baca dataset\n",
        "df = pd.read_csv('PoPCites.csv')\n",
        "authors = df['Authors'].astype(str).tolist()"
      ],
      "metadata": {
        "id": "Vu0MJ_zk0oW3"
      },
      "execution_count": null,
      "outputs": []
    },
    {
      "cell_type": "code",
      "source": [
        "authors"
      ],
      "metadata": {
        "colab": {
          "base_uri": "https://localhost:8080/"
        },
        "id": "mTxgkHb11yk4",
        "outputId": "c3376177-724a-4938-e6ad-3461f44db56d"
      },
      "execution_count": null,
      "outputs": [
        {
          "output_type": "execute_result",
          "data": {
            "text/plain": [
              "['I Lewaa, MS Hafez, MA Ismail',\n",
              " 'M El Abassi, M Amnai, A Choukri, Y Fakhri…',\n",
              " 'J Yang, K Xian, P Wang, Y Zhang',\n",
              " 'J Yang, S Quan, P Wang…',\n",
              " 'Y Zhu, J Yang',\n",
              " 'LL Sharabi',\n",
              " 'DA Wood',\n",
              " 'B Sun, T Alkhalifah',\n",
              " 'T Lei, Z Lei',\n",
              " 'J Yang, C Zhao, K Xian, A Zhu, Z Cao',\n",
              " 'DA Wood',\n",
              " 'DA Wood',\n",
              " 'T Hayashi, Y Ohsawa',\n",
              " 'Z Du, Y Zuo, J Qiu, X Li, Y Li, H Guo, X Hong…',\n",
              " 'B Engquist, K Ren, Y Yang',\n",
              " 'A Alali, V Kazei, B Sun, T Alkhalifah',\n",
              " 'S Bader, X Wu, S Fomel',\n",
              " 'C Wüstenhagen, K John, S Langner, M Brede…',\n",
              " 'N Ahmadi, H Sand, P Papotti',\n",
              " 'W Xue, D Vatsalan, W Hu…',\n",
              " 'SJ Grannis, H Xu, JR Vest…',\n",
              " 'DA Wood',\n",
              " 'N Wang, A Vlachokostas, M Borkum, H Bergmann…',\n",
              " 'P Verschuuren, S Palazzo, T Powell, S Sutton…',\n",
              " \"R D'Alberto, M Raggi\",\n",
              " 'H Liu, ZW Hu, Z Yang, M Wang',\n",
              " 'X Gao, J Yi, L Liu, L Tan',\n",
              " 'K Blythe',\n",
              " 'X Fu, Y Zhang, W Zhang, Q Li, T Kong',\n",
              " 'J Dai, Y Teng, Z Zhang, Z Yu, G Sheng, X Jiang',\n",
              " 'X Peng, H Liu, K Siggers, Z Liu',\n",
              " 'NE Kired, F Ravat, J Song, O Teste',\n",
              " 'B Aksoy, S Uğuz, O Oral',\n",
              " \"R D'Alberto, M Raggi\",\n",
              " 'M Graf, L Laskowski, F Papsdorf…',\n",
              " 'DA Wood',\n",
              " 'L Porth, KS Tan, W Zhu',\n",
              " 'M Graf, L Laskowski, F Papsdorf, F Sold…',\n",
              " 'J Kim, K Suzuka, E Yakel',\n",
              " 'H Belhadi, K Akli-Astouati, Y Djenouri, JCW Lin',\n",
              " 'DA Wood',\n",
              " 'J Tu, J Fan, N Tang, P Wang, G Li, X Du, X Jia…',\n",
              " 'J Stipancic, N Saunier, N Navidi, EB Racine…',\n",
              " 'E Lee, S Yoo, W Wang, Z Tu, J Zhu',\n",
              " 'L Xiangchun, C Zhan, S Wei, L Fenglei…',\n",
              " 'Z Zhang, Z Wang, X Tong',\n",
              " 'FO Catak, SY Yayilgan, M Abomhara',\n",
              " 'DA Wood',\n",
              " 'WB Zhang, Y Ge, Y Leung, Y Zhou',\n",
              " 'R Mozer, L Miratrix, AR Kaufman…',\n",
              " 'A Kushkin, A Giordano, A Griffin…',\n",
              " 'Z Cheng, L Han, Q Han, Z Han, N Wang, G Jing, Y Gou',\n",
              " 'S Weerasingha, MJ Higgins',\n",
              " 'A Satpathy, MN Sahoo, L Behera…',\n",
              " 'CB Issaid, M Bennis',\n",
              " 'O Fallatah',\n",
              " 'A Coppens, V Maquil',\n",
              " 'C Woo, GN Cioffi, TA Bej, B Wilson…',\n",
              " 'T Yokota',\n",
              " 'W Wong, Z Alomari, Y Liu, L Jura',\n",
              " 'YC Chen, YH Chang, TW Kuo',\n",
              " 'C Wüstenhagen, C Domnick…',\n",
              " 'H Shen, G Wu, W Susilo…',\n",
              " 'Z Kong, Y Fu, JA Jakubiec…',\n",
              " 'L Laskowski, F Sold',\n",
              " 'G Shan, Y Wang, S Li, J Chen, P Shen…',\n",
              " 'DA Wood',\n",
              " 'S Melzer, M Klettke, F Weise…',\n",
              " 'L LIU, S CHEN, YL WANG, YF XIAO, HB YUE',\n",
              " 'K Kajita, G Ohtake',\n",
              " 'L Zhao, Y Liu, Y Lu, Y Sun, J Li, K Yao',\n",
              " 'Y Jiao, P Qi',\n",
              " 'J Maneely, Z Neuberger',\n",
              " 'YC Han, N Nguyen',\n",
              " 'X Liang, D Hu, L Jiang, Y Li, X Yang',\n",
              " 'DB Blumenthal, S Bougleux, A Dignös, J Gamper',\n",
              " 'G Si, H Lv, H Yuan, D Xie…',\n",
              " 'A Coppens, V Maquil',\n",
              " 'C Meng, K Choi, J Song…',\n",
              " 'CC Engebretsen, AN Palazotto, K Langer',\n",
              " 'L Li, Q Liu, W Huang',\n",
              " 'C Wüstenhagen, C Domnick…',\n",
              " 'L Zhou, S Dong, L Han, P Zhang, Y Hu',\n",
              " 'C Koutras, K Psarakis, G Siachamis…',\n",
              " 'TT Nguyen, H Hooshyar, R Kadavil…',\n",
              " 'Y Zhang, J Huang, M Deng, C Chen, F Zhou…',\n",
              " 'H Shimizu, H Arakawa, T Mino, Y Kurosaki…',\n",
              " 'B Weiss',\n",
              " 'W Jiang, J Ma',\n",
              " 'BA Sarac, JE Janis',\n",
              " 'R Roy, R Mayer, HA Jacobsen',\n",
              " 'U Brunner, K Stockinger',\n",
              " 'B Zhou, X Chen, M Xu, L Xin',\n",
              " 'MM Jaber, MH Ali, SK Abd, MM Jassim…',\n",
              " 'X Luo, L Zhang, L Ren, Y Lali',\n",
              " 'S Auzoux, B Ngaba, M Christina, B Heuclin, M Roche',\n",
              " 'A Coppens, V Maquil',\n",
              " 'A Kato, H Wakabayashi, M Bradford…',\n",
              " 'UV Albrecht, D Lawin, S Kuhn…',\n",
              " 'DA Wood']"
            ]
          },
          "metadata": {},
          "execution_count": 11
        }
      ]
    },
    {
      "cell_type": "code",
      "source": [
        "# 3) Siapkan list untuk menampung hasil\n",
        "results = []"
      ],
      "metadata": {
        "id": "wNy82lY02QN-"
      },
      "execution_count": null,
      "outputs": []
    },
    {
      "cell_type": "code",
      "source": [
        "# 4) Looping pairwise\n",
        "for i in range(len(authors)):\n",
        "    for j in range(i + 1, len(authors)):\n",
        "        s1 = authors[i]\n",
        "        s2 = authors[j]\n",
        "\n",
        "        # FuzzyWuzzy (Levenshtein → ratio 0–100)\n",
        "        score_fw = fuzz.ratio(s1, s2)\n",
        "\n",
        "        # RapidFuzz (Levenshtein → ratio 0–100)\n",
        "        score_rf = rapidfuzz_module.ratio(s1, s2)\n",
        "\n",
        "        # NLTK (jarak edit → konversi ke % kemiripan)\n",
        "        dist = edit_distance(s1, s2)\n",
        "        max_len = max(len(s1), len(s2))\n",
        "        score_nltk = (1 - dist / max_len) * 100 if max_len > 0 else 0\n",
        "\n",
        "        # Difflib (SequenceMatcher → ratio 0.0–1.0)\n",
        "        score_diff = SequenceMatcher(None, s1, s2).ratio() * 100\n",
        "\n",
        "        results.append({\n",
        "            'idx_1': i,\n",
        "            'idx_2': j,\n",
        "            'Authors_1': s1,\n",
        "            'Authors_2': s2,\n",
        "            'FuzzyWuzzy_%': round(score_fw, 2),\n",
        "            'RapidFuzz_%': round(score_rf, 2),\n",
        "            'NLTK_%': round(score_nltk, 2),\n",
        "            'DiffLib_%': round(score_diff, 2)\n",
        "        })"
      ],
      "metadata": {
        "id": "9VObstQp2Y7Y"
      },
      "execution_count": null,
      "outputs": []
    },
    {
      "cell_type": "code",
      "source": [
        "len(results)"
      ],
      "metadata": {
        "colab": {
          "base_uri": "https://localhost:8080/"
        },
        "id": "rfubQEHo4Ji_",
        "outputId": "6d68093a-948e-44b0-b37b-e57631008c7c"
      },
      "execution_count": null,
      "outputs": [
        {
          "output_type": "execute_result",
          "data": {
            "text/plain": [
              "4950"
            ]
          },
          "metadata": {},
          "execution_count": 15
        }
      ]
    },
    {
      "cell_type": "code",
      "source": [
        "results[1599]"
      ],
      "metadata": {
        "colab": {
          "base_uri": "https://localhost:8080/"
        },
        "id": "RO0XT3SJ4j5o",
        "outputId": "d407f2fd-267c-46e6-b525-da52bb049fd1"
      },
      "execution_count": null,
      "outputs": [
        {
          "output_type": "execute_result",
          "data": {
            "text/plain": [
              "{'idx_1': 17,\n",
              " 'idx_2': 70,\n",
              " 'Authors_1': 'C Wüstenhagen, K John, S Langner, M Brede…',\n",
              " 'Authors_2': 'L Zhao, Y Liu, Y Lu, Y Sun, J Li, K Yao',\n",
              " 'FuzzyWuzzy_%': 22,\n",
              " 'RapidFuzz_%': 34.57,\n",
              " 'NLTK_%': 21.43,\n",
              " 'DiffLib_%': 22.22}"
            ]
          },
          "metadata": {},
          "execution_count": 18
        }
      ]
    },
    {
      "cell_type": "code",
      "source": [
        "# prompt: convert \"results\" variable to dataframe and download it as excel\n",
        "\n",
        "# Convert the list of dictionaries to a pandas DataFrame\n",
        "df_results = pd.DataFrame(results)\n",
        "\n",
        "# Save the DataFrame to an Excel file\n",
        "df_results.to_excel('author_similarity_results.xlsx', index=False)\n",
        "\n",
        "print(\"Results DataFrame converted to Excel and saved as 'author_similarity_results.xlsx'\")"
      ],
      "metadata": {
        "colab": {
          "base_uri": "https://localhost:8080/"
        },
        "id": "A99HAnxI6BN3",
        "outputId": "91884632-6372-4ab6-8628-261f3b3d8fa6"
      },
      "execution_count": null,
      "outputs": [
        {
          "output_type": "stream",
          "name": "stdout",
          "text": [
            "Results DataFrame converted to Excel and saved as 'author_similarity_results.xlsx'\n"
          ]
        }
      ]
    }
  ]
}